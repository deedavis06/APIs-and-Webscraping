{
 "cells": [
  {
   "attachments": {},
   "cell_type": "markdown",
   "metadata": {},
   "source": [
    "# Web Scraping"
   ]
  },
  {
   "cell_type": "code",
   "execution_count": 46,
   "metadata": {},
   "outputs": [],
   "source": [
    "from bs4 import BeautifulSoup #pulls data out of HTML and XML files\n",
    "import requests #send HTTP requests using python\n",
    "import csv"
   ]
  },
  {
   "cell_type": "code",
   "execution_count": 47,
   "metadata": {},
   "outputs": [],
   "source": [
    "\n",
    "response=requests.get('https://quotes.toscrape.com/')\n",
    "soup=BeautifulSoup(response.text, \"html.parser\") #Parses a web page’s HTML/XHTML content"
   ]
  },
  {
   "cell_type": "code",
   "execution_count": 48,
   "metadata": {},
   "outputs": [],
   "source": [
    "quotes=soup.findAll('span', attrs={'class':'text'})\n",
    "#find all elements that have 'text'  in the class attribute of the <span> tag \n",
    "\n",
    "authors=soup.findAll('small', attrs={'class':'author'})\n",
    "#find all elements that have 'author'  in the class attribute of the <small> tag "
   ]
  },
  {
   "cell_type": "code",
   "execution_count": 49,
   "metadata": {},
   "outputs": [
    {
     "data": {
      "text/plain": [
       "14"
      ]
     },
     "execution_count": 49,
     "metadata": {},
     "output_type": "execute_result"
    }
   ],
   "source": [
    "file=open('text_web_scraping_quotes.csv', 'w') #open the file for writing \n",
    "writer= csv.writer(file)\n",
    "writer.writerow(['Quote','Author']) #This will add header names to each column\n"
   ]
  },
  {
   "cell_type": "code",
   "execution_count": 50,
   "metadata": {},
   "outputs": [
    {
     "name": "stdout",
     "output_type": "stream",
     "text": [
      "“The world as we have created it is a process of our thinking. It cannot be changed without changing our thinking.”\n",
      "“It is our choices, Harry, that show what we truly are, far more than our abilities.”\n",
      "“There are only two ways to live your life. One is as though nothing is a miracle. The other is as though everything is a miracle.”\n",
      "“The person, be it gentleman or lady, who has not pleasure in a good novel, must be intolerably stupid.”\n",
      "“Imperfection is beauty, madness is genius and it's better to be absolutely ridiculous than absolutely boring.”\n",
      "“Try not to become a man of success. Rather become a man of value.”\n",
      "“It is better to be hated for what you are than to be loved for what you are not.”\n",
      "“I have not failed. I've just found 10,000 ways that won't work.”\n",
      "“A woman is like a tea bag; you never know how strong it is until it's in hot water.”\n",
      "“A day without sunshine is like, you know, night.”\n"
     ]
    }
   ],
   "source": [
    "#Create a for loop to loop through each quote \n",
    "for q in quotes:\n",
    "    print(q.text)\n"
   ]
  },
  {
   "cell_type": "code",
   "execution_count": 51,
   "metadata": {},
   "outputs": [
    {
     "name": "stdout",
     "output_type": "stream",
     "text": [
      "Albert Einstein\n",
      "J.K. Rowling\n",
      "Albert Einstein\n",
      "Jane Austen\n",
      "Marilyn Monroe\n",
      "Albert Einstein\n",
      "André Gide\n",
      "Thomas A. Edison\n",
      "Eleanor Roosevelt\n",
      "Steve Martin\n"
     ]
    }
   ],
   "source": [
    "#Create a for loop for the author list\n",
    "for a in authors:\n",
    "    print(a.text)"
   ]
  },
  {
   "attachments": {},
   "cell_type": "markdown",
   "metadata": {},
   "source": [
    "### Now lets combine the loops together to have a quote:author format!!"
   ]
  },
  {
   "cell_type": "code",
   "execution_count": 52,
   "metadata": {},
   "outputs": [
    {
     "name": "stdout",
     "output_type": "stream",
     "text": [
      "The quote is: “The world as we have created it is a process of our thinking. It cannot be changed without changing our thinking.” by: Albert Einstein\n",
      "The quote is: “It is our choices, Harry, that show what we truly are, far more than our abilities.” by: J.K. Rowling\n",
      "The quote is: “There are only two ways to live your life. One is as though nothing is a miracle. The other is as though everything is a miracle.” by: Albert Einstein\n",
      "The quote is: “The person, be it gentleman or lady, who has not pleasure in a good novel, must be intolerably stupid.” by: Jane Austen\n",
      "The quote is: “Imperfection is beauty, madness is genius and it's better to be absolutely ridiculous than absolutely boring.” by: Marilyn Monroe\n",
      "The quote is: “Try not to become a man of success. Rather become a man of value.” by: Albert Einstein\n",
      "The quote is: “It is better to be hated for what you are than to be loved for what you are not.” by: André Gide\n",
      "The quote is: “I have not failed. I've just found 10,000 ways that won't work.” by: Thomas A. Edison\n",
      "The quote is: “A woman is like a tea bag; you never know how strong it is until it's in hot water.” by: Eleanor Roosevelt\n",
      "The quote is: “A day without sunshine is like, you know, night.” by: Steve Martin\n"
     ]
    }
   ],
   "source": [
    "for q, a in zip(quotes,authors):\n",
    "  print(f'The quote is: {q.text} by: {a.text}')\n",
    "  # You can also do: print('The quote is: ' + q.text + ' by:' + a.text)\n",
    "  writer.writerow([q.text, a.text]) #this will write the quote and text to the csv file\n"
   ]
  },
  {
   "cell_type": "code",
   "execution_count": 53,
   "metadata": {},
   "outputs": [],
   "source": [
    "file.close() #Be sure to close your file!"
   ]
  },
  {
   "attachments": {},
   "cell_type": "markdown",
   "metadata": {},
   "source": [
    "## Resources"
   ]
  },
  {
   "attachments": {},
   "cell_type": "markdown",
   "metadata": {},
   "source": [
    "https://www.crummy.com/software/BeautifulSoup/bs4/doc/\n",
    "\n",
    "https://quotes.toscrape.com/\n",
    "\n",
    "https://www.youtube.com/watch?v=QhD015WUMxE\n",
    "\n",
    "https://pytutorial.com/beautifulsoup-attribute/\n",
    "\n",
    "https://docs.python.org/3/library/csv.html"
   ]
  }
 ],
 "metadata": {
  "kernelspec": {
   "display_name": "Python 3",
   "language": "python",
   "name": "python3"
  },
  "language_info": {
   "codemirror_mode": {
    "name": "ipython",
    "version": 3
   },
   "file_extension": ".py",
   "mimetype": "text/x-python",
   "name": "python",
   "nbconvert_exporter": "python",
   "pygments_lexer": "ipython3",
   "version": "3.10.7"
  },
  "orig_nbformat": 4,
  "vscode": {
   "interpreter": {
    "hash": "f6f7792fa8fe7fcaccc3e1fb304e8ac4ae961e3947fbb048d74f1654152bb044"
   }
  }
 },
 "nbformat": 4,
 "nbformat_minor": 2
}
